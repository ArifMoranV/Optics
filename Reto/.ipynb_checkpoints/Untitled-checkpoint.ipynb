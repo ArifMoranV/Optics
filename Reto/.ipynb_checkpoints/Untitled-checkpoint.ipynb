{
 "cells": [
  {
   "cell_type": "code",
   "execution_count": 1,
   "id": "349ea5ee",
   "metadata": {},
   "outputs": [],
   "source": [
    "import sympy as sp"
   ]
  },
  {
   "cell_type": "code",
   "execution_count": 48,
   "id": "7eae8450",
   "metadata": {},
   "outputs": [],
   "source": [
    "S_o,S_o2,S_i,S_i2,f_1,f_2,y_i,y_o,M_t=sp.symbols(\"S_o,S_o2,S_i,S_i2,f_1,f_2,y_i,y_o,M_t\")"
   ]
  },
  {
   "cell_type": "code",
   "execution_count": 49,
   "id": "615687dd",
   "metadata": {},
   "outputs": [
    {
     "data": {
      "text/latex": [
       "$\\displaystyle \\frac{S_{i2} S_{o} f_{1}}{\\left(S_{o} - f_{1}\\right) \\left(- S_{o} S_{o2} f_{1} + S_{o} f_{1} + S_{o} f_{2}\\right)} = M_{t}$"
      ],
      "text/plain": [
       "Eq(S_i2*S_o*f_1/((S_o - f_1)*(-S_o*S_o2*f_1 + S_o*f_1 + S_o*f_2)), M_t)"
      ]
     },
     "execution_count": 49,
     "metadata": {},
     "output_type": "execute_result"
    }
   ],
   "source": [
    "Eq=sp.Eq(S_o*f_1*S_i2/(S_o-f_1)/(S_o*f_1+S_o*f_2-(S_o**2*f_1/S_o*S_o2)), M_t)\n",
    "Eq"
   ]
  },
  {
   "cell_type": "code",
   "execution_count": 50,
   "id": "b65b5098",
   "metadata": {},
   "outputs": [
    {
     "data": {
      "text/latex": [
       "$\\displaystyle \\frac{f_{2} \\left(- \\frac{S_{o} f_{1}}{S_{o} - f_{1}} + f_{1} + f_{2}\\right)}{- \\frac{S_{o} f_{1}}{S_{o} - f_{1}} + f_{1}}$"
      ],
      "text/plain": [
       "f_2*(-S_o*f_1/(S_o - f_1) + f_1 + f_2)/(-S_o*f_1/(S_o - f_1) + f_1)"
      ]
     },
     "execution_count": 50,
     "metadata": {},
     "output_type": "execute_result"
    }
   ],
   "source": [
    "Eq2=(f_1+f_2-(S_o*f_1/(S_o-f_1)))*f_2/((f_1+f_2-(S_o*f_1/(S_o-f_1)))-f_2)\n",
    "Eq2"
   ]
  },
  {
   "cell_type": "code",
   "execution_count": 51,
   "id": "e71de369",
   "metadata": {},
   "outputs": [
    {
     "data": {
      "text/latex": [
       "$\\displaystyle M_{t} = - \\frac{f_{1} f_{2} \\left(- \\frac{S_{o} f_{1}}{S_{o} - f_{1}} + f_{1} + f_{2}\\right)}{\\left(S_{o} - f_{1}\\right) \\left(\\frac{S_{o} f_{1}}{S_{o} - f_{1}} - f_{1}\\right) \\left(- S_{o2} f_{1} + f_{1} + f_{2}\\right)}$"
      ],
      "text/plain": [
       "Eq(M_t, -f_1*f_2*(-S_o*f_1/(S_o - f_1) + f_1 + f_2)/((S_o - f_1)*(S_o*f_1/(S_o - f_1) - f_1)*(-S_o2*f_1 + f_1 + f_2)))"
      ]
     },
     "execution_count": 51,
     "metadata": {},
     "output_type": "execute_result"
    }
   ],
   "source": [
    "Eq3=sp.simplify(sp.Subs(Eq,S_i2,Eq2))\n",
    "Eq3"
   ]
  },
  {
   "cell_type": "code",
   "execution_count": 52,
   "id": "e405326f",
   "metadata": {},
   "outputs": [
    {
     "data": {
      "text/latex": [
       "$\\displaystyle M_{t} = \\frac{4.34782608695652 \\cdot \\left(0.005704 - 0.0064 S_{o}\\right)}{\\left(0.31 - 0.23 S_{o2}\\right) \\left(S_{o} - 0.23\\right)}$"
      ],
      "text/plain": [
       "Eq(M_t, 4.34782608695652*(0.005704 - 0.0064*S_o)/((0.31 - 0.23*S_o2)*(S_o - 0.23)))"
      ]
     },
     "execution_count": 52,
     "metadata": {},
     "output_type": "execute_result"
    }
   ],
   "source": [
    "sp.simplify(sp.Subs(Eq3,f_1,0.23).subs(f_2,0.08))"
   ]
  },
  {
   "cell_type": "code",
   "execution_count": 61,
   "id": "c28e7dbd",
   "metadata": {},
   "outputs": [
    {
     "data": {
      "text/latex": [
       "$\\displaystyle M_{t} = \\frac{f_{2} \\cdot \\left(384400000 f_{1} - \\left(384400000 - f_{1}\\right) \\left(f_{1} + f_{2}\\right)\\right)}{f_{1} \\cdot \\left(384400000 - f_{1}\\right) \\left(1.01 f_{1} + f_{2}\\right)}$"
      ],
      "text/plain": [
       "Eq(M_t, f_2*(384400000*f_1 - (384400000 - f_1)*(f_1 + f_2))/(f_1*(384400000 - f_1)*(1.01*f_1 + f_2)))"
      ]
     },
     "execution_count": 61,
     "metadata": {},
     "output_type": "execute_result"
    }
   ],
   "source": [
    "dista=384400*1000\n",
    "Eq4=sp.simplify(sp.Subs(Eq3,S_o,dista).subs(S_o2,-0.01))\n",
    "Eq4"
   ]
  },
  {
   "cell_type": "code",
   "execution_count": 63,
   "id": "6847f732",
   "metadata": {},
   "outputs": [],
   "source": [
    "Sol=sp.solve(Eq4,f_1)"
   ]
  },
  {
   "cell_type": "code",
   "execution_count": null,
   "id": "44acfbe4",
   "metadata": {},
   "outputs": [],
   "source": []
  }
 ],
 "metadata": {
  "kernelspec": {
   "display_name": "Python 3 (ipykernel)",
   "language": "python",
   "name": "python3"
  },
  "language_info": {
   "codemirror_mode": {
    "name": "ipython",
    "version": 3
   },
   "file_extension": ".py",
   "mimetype": "text/x-python",
   "name": "python",
   "nbconvert_exporter": "python",
   "pygments_lexer": "ipython3",
   "version": "3.9.6"
  }
 },
 "nbformat": 4,
 "nbformat_minor": 5
}
